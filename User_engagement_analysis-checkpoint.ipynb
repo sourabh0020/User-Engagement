{
 "cells": [
  {
   "cell_type": "code",
   "execution_count": 12,
   "id": "22e182cd-3c9c-486d-ba30-58599b2208ef",
   "metadata": {},
   "outputs": [],
   "source": [
    "import pandas as pd"
   ]
  },
  {
   "cell_type": "code",
   "execution_count": 14,
   "id": "5bb7f90e-0e36-4e88-861a-e5eeddb355e8",
   "metadata": {},
   "outputs": [
    {
     "name": "stdout",
     "output_type": "stream",
     "text": [
      "C:\\Users\\Lenovo\\Downloads\n"
     ]
    }
   ],
   "source": [
    "cd C:\\Users\\Lenovo\\Downloads"
   ]
  },
  {
   "cell_type": "markdown",
   "id": "d284f89b-ee3d-4b88-aa55-62b4024fc233",
   "metadata": {},
   "source": [
    "# Load the dataset\n"
   ]
  },
  {
   "cell_type": "code",
   "execution_count": 16,
   "id": "d1be6cf3-16c2-4362-847e-5891a326b3bf",
   "metadata": {},
   "outputs": [
    {
     "name": "stdout",
     "output_type": "stream",
     "text": [
      "Dataset Loaded Successfully!\n",
      "   User_ID Age_Group         Region Content_Type  Duration_Viewed (min)  \\\n",
      "0      754     25-34           Asia  Live_Stream                   25.5   \n",
      "1      214     35-44         Europe   Long_Video                   15.5   \n",
      "2      125     45-54           Asia  Short_Video                   16.2   \n",
      "3      859     25-34         Europe  Short_Video                   27.8   \n",
      "4      381     45-54  South America   Long_Video                    7.0   \n",
      "\n",
      "    Session_Start     Session_End  Clicks  \n",
      "0  1/1/2025 13:45  1/1/2025 14:10       5  \n",
      "1  1/1/2025 19:13  1/1/2025 19:28       5  \n",
      "2  1/1/2025 10:41  1/1/2025 10:57       1  \n",
      "3  1/1/2025 17:06  1/1/2025 17:33       3  \n",
      "4  1/1/2025 18:14  1/1/2025 18:21       1  \n"
     ]
    }
   ],
   "source": [
    "# Load the dataset\n",
    "\n",
    "data = pd.read_csv('user_engagement_sample.csv')\n",
    "print(\"Dataset Loaded Successfully!\")\n",
    "print(data.head())"
   ]
  },
  {
   "cell_type": "markdown",
   "id": "526d1a2a-caa7-47e1-b6fa-ce7753a483d8",
   "metadata": {},
   "source": [
    "# Cleaning and Preparing Data"
   ]
  },
  {
   "cell_type": "code",
   "execution_count": 23,
   "id": "76134320-0669-491f-a75e-2f562fd039d9",
   "metadata": {},
   "outputs": [
    {
     "name": "stdout",
     "output_type": "stream",
     "text": [
      "User_ID                  0\n",
      "Age_Group                0\n",
      "Region                   0\n",
      "Content_Type             0\n",
      "Duration_Viewed (min)    0\n",
      "Session_Start            0\n",
      "Session_End              0\n",
      "Clicks                   0\n",
      "dtype: int64\n"
     ]
    }
   ],
   "source": [
    "# Check for null values\n",
    "\n",
    "print(data.isnull().sum())"
   ]
  },
  {
   "cell_type": "code",
   "execution_count": 27,
   "id": "8ef6c291-c615-43e3-8907-2ebfa5678209",
   "metadata": {},
   "outputs": [
    {
     "data": {
      "text/plain": [
       "0      25.5\n",
       "1      15.5\n",
       "2      16.2\n",
       "3      27.8\n",
       "4       7.0\n",
       "       ... \n",
       "995    20.6\n",
       "996    26.7\n",
       "997     6.7\n",
       "998     7.1\n",
       "999    13.2\n",
       "Name: Duration_Viewed (min), Length: 1000, dtype: float64"
      ]
     },
     "execution_count": 27,
     "metadata": {},
     "output_type": "execute_result"
    }
   ],
   "source": [
    "# Fill missing values for 'Duration_Viewed (min)'\n",
    "\n",
    "data['Duration_Viewed (min)'].fillna(data['Duration_Viewed (min)'].mean())"
   ]
  },
  {
   "cell_type": "markdown",
   "id": "6e6719fa-f7e3-4643-a211-42108804ed98",
   "metadata": {},
   "source": [
    "# Converting and Derive DateTime Columns"
   ]
  },
  {
   "cell_type": "code",
   "execution_count": 34,
   "id": "d870b98a-7e77-479d-a3aa-4a05503f2f75",
   "metadata": {},
   "outputs": [],
   "source": [
    "# Converting columns to DateTime\n",
    "data['Session_Start'] = pd.to_datetime(data['Session_Start'])\n",
    "data['Session_End'] = pd.to_datetime(data['Session_End'])\n"
   ]
  },
  {
   "cell_type": "code",
   "execution_count": 36,
   "id": "f13f2e82-579a-4929-90ee-f026554d1120",
   "metadata": {},
   "outputs": [],
   "source": [
    "# Create a new column for session duration\n",
    "\n",
    "data['Session_Duration'] = (data['Session_End'] - data['Session_Start']).dt.total_seconds() / 60"
   ]
  },
  {
   "cell_type": "code",
   "execution_count": null,
   "id": "b93c00df-1f27-4a80-bb3f-d447724a103b",
   "metadata": {},
   "outputs": [],
   "source": []
  },
  {
   "cell_type": "code",
   "execution_count": 40,
   "id": "444cda97-b8ed-4b3a-8b8e-9cc8c31617e7",
   "metadata": {},
   "outputs": [],
   "source": [
    "# Extract the hour of the session start\n",
    "\n",
    "data['Hour'] = data['Session_Start'].dt.hour"
   ]
  },
  {
   "cell_type": "code",
   "execution_count": 43,
   "id": "cb65fc5a-1427-4872-adc2-50de33f21f08",
   "metadata": {},
   "outputs": [
    {
     "name": "stdout",
     "output_type": "stream",
     "text": [
      "     User_ID Age_Group         Region Content_Type  Duration_Viewed (min)  \\\n",
      "0        754     25-34           Asia  Live_Stream                   25.5   \n",
      "1        214     35-44         Europe   Long_Video                   15.5   \n",
      "2        125     45-54           Asia  Short_Video                   16.2   \n",
      "3        859     25-34         Europe  Short_Video                   27.8   \n",
      "4        381     45-54  South America   Long_Video                    7.0   \n",
      "..       ...       ...            ...          ...                    ...   \n",
      "995      750     35-44  North America  Short_Video                   20.6   \n",
      "996      948     45-54           Asia   Long_Video                   26.7   \n",
      "997      570     45-54  North America   Long_Video                    6.7   \n",
      "998      824     18-24           Asia  Short_Video                    7.1   \n",
      "999      256     45-54  South America  Live_Stream                   13.2   \n",
      "\n",
      "          Session_Start         Session_End  Clicks  Session_Duration  Hour  \n",
      "0   2025-01-01 13:45:00 2025-01-01 14:10:00       5              25.0    13  \n",
      "1   2025-01-01 19:13:00 2025-01-01 19:28:00       5              15.0    19  \n",
      "2   2025-01-01 10:41:00 2025-01-01 10:57:00       1              16.0    10  \n",
      "3   2025-01-01 17:06:00 2025-01-01 17:33:00       3              27.0    17  \n",
      "4   2025-01-01 18:14:00 2025-01-01 18:21:00       1               7.0    18  \n",
      "..                  ...                 ...     ...               ...   ...  \n",
      "995 2025-01-01 14:08:00 2025-01-01 14:28:00       9              20.0    14  \n",
      "996 2025-01-01 15:07:00 2025-01-01 15:33:00       2              26.0    15  \n",
      "997 2025-01-01 10:37:00 2025-01-01 10:43:00       3               6.0    10  \n",
      "998 2025-01-01 12:55:00 2025-01-01 13:02:00      10               7.0    12  \n",
      "999 2025-01-01 19:26:00 2025-01-01 19:39:00       1              13.0    19  \n",
      "\n",
      "[1000 rows x 10 columns]\n"
     ]
    }
   ],
   "source": [
    "print(data)"
   ]
  },
  {
   "cell_type": "markdown",
   "id": "e40707b6-7cd9-47b4-a2b4-7bf39165da8f",
   "metadata": {},
   "source": [
    "# Perform Exploratory Data Analysis (EDA)"
   ]
  },
  {
   "cell_type": "code",
   "execution_count": 46,
   "id": "29d18962-d611-424d-aacb-10e1c2666e92",
   "metadata": {},
   "outputs": [],
   "source": [
    "import seaborn as sns\n",
    "import matplotlib.pyplot as plt"
   ]
  },
  {
   "cell_type": "code",
   "execution_count": 50,
   "id": "9bc58dde-9139-4d4d-931b-8db5387b142b",
   "metadata": {},
   "outputs": [
    {
     "data": {
      "image/png": "[encoded data removed]",
      "text/plain": [
       "<Figure size 640x480 with 1 Axes>"
      ]
     },
     "metadata": {},
     "output_type": "display_data"
    }
   ],
   "source": [
    "# Age Group Distribution\n",
    "sns.countplot(x='Age_Group', hue='Age_Group', data=data, palette='pastel', legend=False)\n",
    "plt.title('Age Group Distribution')\n",
    "plt.show()"
   ]
  },
  {
   "cell_type": "code",
   "execution_count": 52,
   "id": "a0fd3a5d-f850-418d-9c27-bf69ceb291d1",
   "metadata": {},
   "outputs": [
    {
     "data": {
      "image/png": "[encoded data removed]",
      "text/plain": [
       "<Figure size 640x480 with 1 Axes>"
      ]
     },
     "metadata": {},
     "output_type": "display_data"
    }
   ],
   "source": [
    "# Average Session Duration by Content Type\n",
    "#it will Identify which content type holds user attention longer\n",
    "\n",
    "avg_duration = data.groupby('Content_Type')['Session_Duration'].mean()\n",
    "\n",
    "avg_duration.plot(kind='bar', title='Average Session Duration by Content Type', color='skyblue')\n",
    "plt.ylabel('Average Duration (minutes)')\n",
    "plt.show()"
   ]
  },
  {
   "cell_type": "code",
   "execution_count": 54,
   "id": "0c3e8b49-0226-4db7-9b4b-e5dedfa44fa1",
   "metadata": {},
   "outputs": [
    {
     "data": {
      "image/png": "[encoded data removed]",
      "text/plain": [
       "<Figure size 640x480 with 1 Axes>"
      ]
     },
     "metadata": {},
     "output_type": "display_data"
    }
   ],
   "source": [
    "# Peak Hours of Activity\n",
    "# Discover when users are most active\n",
    "\n",
    "sns.histplot(data['Hour'], bins=24, kde=True, color='green')\n",
    "plt.title('Peak Hours of User Activity')\n",
    "plt.xlabel('Hour of the Day')\n",
    "plt.ylabel('Frequency')\n",
    "plt.show()\n"
   ]
  },
  {
   "cell_type": "code",
   "execution_count": 60,
   "id": "802f52c0-5481-4816-956d-583a2df86f49",
   "metadata": {},
   "outputs": [
    {
     "name": "stdout",
     "output_type": "stream",
     "text": [
      "Cleaned dataset saved as 'cleaned_user_engagement.csv'\n"
     ]
    }
   ],
   "source": [
    "# Saving cleaned data \n",
    "\n",
    "data.to_csv('cleaned_user_engagement.csv', index=False)\n",
    "print(\"Cleaned dataset saved as 'cleaned_user_engagement.csv'\")"
   ]
  },
  {
   "cell_type": "markdown",
   "id": "a1fc7911-089c-44ab-9a7a-0d6206a9070f",
   "metadata": {},
   "source": [
    "# Automating the pipeline"
   ]
  },
  {
   "cell_type": "code",
   "execution_count": 63,
   "id": "cbdc5228-b043-4440-ba5c-dc4d7108a565",
   "metadata": {},
   "outputs": [],
   "source": [
    "def automate_pipeline(file_path):\n",
    "    import pandas as pd\n",
    "\n",
    "    # Load new dataset\n",
    "    data = pd.read_csv(file_path)\n",
    "\n",
    "    # Clean and prepare data\n",
    "    data['Session_Start'] = pd.to_datetime(data['Session_Start'])\n",
    "    data['Session_End'] = pd.to_datetime(data['Session_End'])\n",
    "    data['Session_Duration'] = (data['Session_End'] - data['Session_Start']).dt.total_seconds() / 60\n",
    "    data['Hour'] = data['Session_Start'].dt.hour\n",
    "\n",
    "    # Save cleaned data\n",
    "    cleaned_path = 'automated_cleaned_data.csv'\n",
    "    data.to_csv(cleaned_path, index=False)\n",
    "    print(f\"Cleaned data saved at {cleaned_path}\")\n"
   ]
  },
  {
   "cell_type": "code",
   "execution_count": null,
   "id": "d4f2f37e-2149-4648-88a5-0e9bb3fa049d",
   "metadata": {},
   "outputs": [],
   "source": [
    "# Call the function\n",
    "\n",
    "automate_pipeline('new_user_data.csv')"
   ]
  },
  {
   "cell_type": "code",
   "execution_count": null,
   "id": "934406be-d8d4-4bbc-aa83-3080d7d7f5a9",
   "metadata": {},
   "outputs": [],
   "source": []
  },
  {
   "cell_type": "code",
   "execution_count": null,
   "id": "26739933-ab7c-4d65-b2b0-74c244036dca",
   "metadata": {},
   "outputs": [],
   "source": []
  },
  {
   "cell_type": "code",
   "execution_count": null,
   "id": "45de9843-5675-4111-8f5f-7e8db92c3df7",
   "metadata": {},
   "outputs": [],
   "source": []
  },
  {
   "cell_type": "code",
   "execution_count": null,
   "id": "0479334a-30ac-4888-9a34-80532e7f687f",
   "metadata": {},
   "outputs": [],
   "source": []
  },
  {
   "cell_type": "code",
   "execution_count": null,
   "id": "55cda108-633d-46bb-b097-fb23ab9a5688",
   "metadata": {},
   "outputs": [],
   "source": []
  },
  {
   "cell_type": "code",
   "execution_count": null,
   "id": "13afac57-f892-42d1-8da7-238d6068a6db",
   "metadata": {},
   "outputs": [],
   "source": []
  },
  {
   "cell_type": "code",
   "execution_count": null,
   "id": "42e59f8b-c3f2-4c17-a9ec-2c54e7f26613",
   "metadata": {},
   "outputs": [],
   "source": []
  }
 ],
 "metadata": {
  "kernelspec": {
   "display_name": "Python [conda env:base] *",
   "language": "python",
   "name": "conda-base-py"
  },
  "language_info": {
   "codemirror_mode": {
    "name": "ipython",
    "version": 3
   },
   "file_extension": ".py",
   "mimetype": "text/x-python",
   "name": "python",
   "nbconvert_exporter": "python",
   "pygments_lexer": "ipython3",
   "version": "3.12.7"
  }
 },
 "nbformat": 4,
 "nbformat_minor": 5
}
